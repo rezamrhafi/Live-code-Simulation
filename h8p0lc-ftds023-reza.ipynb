{
 "cells": [
  {
   "cell_type": "markdown",
   "metadata": {},
   "source": [
    "Nama : Reza Muhammad Rhafi\n",
    "Batch : FTDS-HCK 023"
   ]
  },
  {
   "cell_type": "code",
   "execution_count": 1,
   "metadata": {},
   "outputs": [
    {
     "name": "stdout",
     "output_type": "stream",
     "text": [
      "Menu:\n",
      "1. input data\n",
      "2. menampilkan data\n",
      "Menu:\n",
      "1. input data\n",
      "2. menampilkan data\n",
      "No.|Nama Barang|Kategori Barang|Harga\n",
      "1 | apa | pp | 1000\n",
      "Menu:\n",
      "1. input data\n",
      "2. menampilkan data\n",
      "terima kasih, sampai jumpa!\n"
     ]
    }
   ],
   "source": [
    "data = []\n",
    "\n",
    "def tampil_barang():\n",
    "    if not data:\n",
    "        print('Data belum ada')\n",
    "    else:\n",
    "        n = 1\n",
    "        for [x,y,z] in data:\n",
    "            print(n,\"|\",x,\"|\",y,\"|\",z)\n",
    "            n += 1 \n",
    "        return [x,y,z]\n",
    "        \n",
    "\n",
    "def input_data():\n",
    "    x = input('Masukkan nama barang: ')\n",
    "    y = input('Masukkan kategori barang: ')\n",
    "    z = input('Masukkan harga (Rupiah): ')\n",
    "    data.append([x,y,z])\n",
    "    return [x,y,z]\n",
    "\n",
    "\n",
    "while True:\n",
    "    print(\"Menu:\")\n",
    "    print(\"1. input data\")\n",
    "    print('2. menampilkan data')\n",
    "    pilih_menu = input('pilih menu atau keluar:')\n",
    "    if pilih_menu == '1':\n",
    "        input_data()\n",
    "    elif pilih_menu == '2':\n",
    "        print(\"No.|Nama Barang|Kategori Barang|Harga\")\n",
    "        tampil_barang()\n",
    "    elif pilih_menu == 'exit':\n",
    "        print('terima kasih, sampai jumpa!')\n",
    "        break\n",
    "\n",
    "\n"
   ]
  }
 ],
 "metadata": {
  "kernelspec": {
   "display_name": "base",
   "language": "python",
   "name": "python3"
  },
  "language_info": {
   "codemirror_mode": {
    "name": "ipython",
    "version": 3
   },
   "file_extension": ".py",
   "mimetype": "text/x-python",
   "name": "python",
   "nbconvert_exporter": "python",
   "pygments_lexer": "ipython3",
   "version": "3.12.7"
  }
 },
 "nbformat": 4,
 "nbformat_minor": 2
}
